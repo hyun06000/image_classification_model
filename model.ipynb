{
 "cells": [
  {
   "cell_type": "code",
   "execution_count": 1,
   "metadata": {},
   "outputs": [],
   "source": [
    "%config Completer.use_jedi = False"
   ]
  },
  {
   "cell_type": "code",
   "execution_count": 2,
   "metadata": {},
   "outputs": [],
   "source": [
    "import os\n",
    "import numpy as np\n",
    "import matplotlib.pyplot as plt\n",
    "import tensorflow as tf\n",
    "import datetime\n",
    "from tensorflow.keras.layers import Conv2D\n",
    "\n",
    "from preprocessing.data.imagenet_labels import imagenet_labels"
   ]
  },
  {
   "cell_type": "code",
   "execution_count": 3,
   "metadata": {},
   "outputs": [],
   "source": [
    "from models.ResBlock import ResBlock"
   ]
  },
  {
   "cell_type": "code",
   "execution_count": 4,
   "metadata": {},
   "outputs": [],
   "source": [
    "from modules.TFR_load import TFR_load"
   ]
  },
  {
   "cell_type": "code",
   "execution_count": 5,
   "metadata": {},
   "outputs": [],
   "source": [
    "# Hyper params\n",
    "\n",
    "BATCH_SIZE     = 32\n",
    "NUM_OF_CLASS   = 10\n",
    "LEARNING_RATE  = 1e-5\n",
    "COSINE_DECAY   = True\n",
    "NUM_TRAIN_DATA = 60000\n",
    "NUM_TEST_DATA  = 10000\n",
    "EPOCH = 100\n",
    "\n",
    "TR_STEPS_PER_EPOCH = NUM_TRAIN_DATA//BATCH_SIZE\n",
    "TE_STEPS_PER_EPOCH = NUM_TEST_DATA//BATCH_SIZE"
   ]
  },
  {
   "cell_type": "raw",
   "metadata": {},
   "source": [
    "path = './preprocessing/data/TFRs/train/'\n",
    "train_ds = TFR_load(\n",
    "    path,\n",
    "    BATCH_SIZE,\n",
    "    NUM_TRAIN_DATA,\n",
    "    is_training = True,\n",
    "    data_shape = [4096, 4096, 3]\n",
    ")\n",
    "print(train_ds)"
   ]
  },
  {
   "cell_type": "code",
   "execution_count": 6,
   "metadata": {},
   "outputs": [
    {
     "name": "stdout",
     "output_type": "stream",
     "text": [
      "1875\n",
      "313\n"
     ]
    }
   ],
   "source": [
    "import tensorflow_datasets as tfds\n",
    "\n",
    "ds_name = 'mnist'\n",
    "builder = tfds.builder(ds_name)\n",
    "\n",
    "tr_ds, te_ds = builder.as_dataset(split = ['train', 'test'], shuffle_files = True)\n",
    "\n",
    "tr_ds = tr_ds.batch(BATCH_SIZE)\n",
    "print(len(tr_ds))\n",
    "te_ds = te_ds.batch(BATCH_SIZE)\n",
    "print(len(te_ds))"
   ]
  },
  {
   "cell_type": "code",
   "execution_count": 7,
   "metadata": {},
   "outputs": [],
   "source": [
    "class MyModel(tf.keras.Model):\n",
    "    def __init__(self):\n",
    "        super(MyModel, self).__init__()\n",
    "        \n",
    "        self.conv = Conv2D(\n",
    "            16,\n",
    "            (5, 5),\n",
    "            strides = (1, 1),\n",
    "            padding='same',\n",
    "            activation = \"relu\")\n",
    "        \n",
    "        self.ResBlock_1 = ResBlock(out_channel = 32, pooling = 'max')\n",
    "        self.ResBlock_2 = ResBlock(out_channel = 64, pooling = 'max')\n",
    "        self.ResBlock_3 = ResBlock(out_channel = 128, pooling = 'max')\n",
    "        self.ResBlock_4 = ResBlock(out_channel = 256, pooling = 'max')\n",
    "        self.flatten = tf.keras.layers.Flatten()\n",
    "        self.dense = tf.keras.layers.Dense(NUM_OF_CLASS, activation = 'softmax')\n",
    "    def call(self, x):\n",
    "        x = self.conv(x)\n",
    "        x = self.ResBlock_1(x)\n",
    "        x = self.ResBlock_2(x)\n",
    "        x = self.ResBlock_3(x)\n",
    "        x = self.ResBlock_4(x)\n",
    "        x = self.flatten(x)\n",
    "        x = self.dense(x)\n",
    "        return x\n",
    "\n",
    "model = MyModel()"
   ]
  },
  {
   "cell_type": "code",
   "execution_count": null,
   "metadata": {
    "scrolled": true
   },
   "outputs": [
    {
     "name": "stdout",
     "output_type": "stream",
     "text": [
      "14.506287\n",
      "14.506276\n",
      "14.506247\n",
      "14.506235\n",
      "14.506259\n",
      "14.506212\n",
      "14.506388\n",
      "14.506207\n",
      "14.506363\n",
      "14.506248\n",
      "14.506292\n",
      "14.506285\n",
      "14.5063505\n",
      "14.506207\n",
      "14.506343\n",
      "14.50624\n",
      "14.506256\n",
      "14.506277\n",
      "14.506186\n",
      "14.506247\n",
      "14.506172\n",
      "14.506069\n",
      "14.506457\n",
      "14.506409\n",
      "14.506264\n",
      "14.506319\n"
     ]
    }
   ],
   "source": [
    "optimizer = tf.keras.optimizers.Adam(learning_rate=LEARNING_RATE, epsilon=1e-08)\n",
    "loss = tf.keras.losses.CategoricalCrossentropy()\n",
    "\n",
    "for _ in range(EPOCH):\n",
    "    for example in tr_ds:\n",
    "        images, labels = example[\"image\"], example[\"label\"]\n",
    "        with tf.GradientTape() as tape:\n",
    "            logits = model(images / 255)\n",
    "            loss_value = loss(logits, tf.one_hot(labels, 10))\n",
    "        print(loss_value.numpy())\n",
    "        grads = tape.gradient(loss_value, model.trainable_variables)\n",
    "        optimizer.apply_gradients(zip(grads, model.trainable_variables))"
   ]
  },
  {
   "cell_type": "code",
   "execution_count": null,
   "metadata": {},
   "outputs": [],
   "source": []
  },
  {
   "cell_type": "code",
   "execution_count": null,
   "metadata": {},
   "outputs": [],
   "source": []
  }
 ],
 "metadata": {
  "kernelspec": {
   "display_name": "Python 3",
   "language": "python",
   "name": "python3"
  },
  "language_info": {
   "codemirror_mode": {
    "name": "ipython",
    "version": 3
   },
   "file_extension": ".py",
   "mimetype": "text/x-python",
   "name": "python",
   "nbconvert_exporter": "python",
   "pygments_lexer": "ipython3",
   "version": "3.6.9"
  }
 },
 "nbformat": 4,
 "nbformat_minor": 2
}
