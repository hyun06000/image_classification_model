{
 "cells": [
  {
   "cell_type": "code",
   "execution_count": 1,
   "metadata": {},
   "outputs": [],
   "source": [
    "import os\n",
    "import numpy as np\n",
    "import matplotlib.pyplot as plt\n",
    "import tensorflow as tf\n",
    "\n",
    "from preprocessing.data.imagenet_labels import imagenet_labels"
   ]
  },
  {
   "cell_type": "code",
   "execution_count": 2,
   "metadata": {},
   "outputs": [],
   "source": [
    "from tensorflow.compat.v1 import ConfigProto\n",
    "from tensorflow.compat.v1 import InteractiveSession\n",
    "\n",
    "config = ConfigProto()\n",
    "config.gpu_options.allow_growth = True\n",
    "session = InteractiveSession(config=config)"
   ]
  },
  {
   "cell_type": "code",
   "execution_count": 3,
   "metadata": {},
   "outputs": [],
   "source": [
    "def decode_fn(record_bytes):\n",
    "    example = tf.io.parse_single_example(\n",
    "        # Data\n",
    "        record_bytes,\n",
    "\n",
    "        # Schema\n",
    "        {\"image\": tf.io.FixedLenFeature([], dtype=tf.string),\n",
    "         \"label\": tf.io.FixedLenFeature([], dtype=tf.int64)}\n",
    "            )\n",
    "    image = tf.io.parse_tensor(example[\"image\"],\n",
    "                               out_type = tf.uint8)\n",
    "    label = example[\"label\"]\n",
    "    return image, label"
   ]
  },
  {
   "cell_type": "code",
   "execution_count": 4,
   "metadata": {},
   "outputs": [],
   "source": [
    "path = './preprocessing/data/TFRs/train/'\n",
    "files = [path+n for n in os.listdir(path)]\n",
    "ds = tf.data.TFRecordDataset(files).map(decode_fn)"
   ]
  },
  {
   "cell_type": "code",
   "execution_count": 5,
   "metadata": {},
   "outputs": [
    {
     "name": "stdout",
     "output_type": "stream",
     "text": [
      "beaver\n",
      "pitcher, ewer\n",
      "jackfruit, jak, jack\n",
      "jay\n",
      "dock, dockage, docking facility\n"
     ]
    }
   ],
   "source": [
    "_ds = ds.batch(5)\n",
    "for ex in _ds.take(1):\n",
    "    for i in range(len(ex[0])):\n",
    "        print(imagenet_labels[ex[1][i].numpy()])\n",
    "#        plt.imshow(ex[0][i])\n",
    "#        plt.show()\n",
    "#print(ex)"
   ]
  },
  {
   "cell_type": "code",
   "execution_count": 6,
   "metadata": {},
   "outputs": [
    {
     "name": "stdout",
     "output_type": "stream",
     "text": [
      "(5, 128, 128, 3)\n"
     ]
    }
   ],
   "source": [
    "x = ex[0]\n",
    "print(x.shape)\n",
    "x = tf.cast(x, dtype = tf.float32) * (1./255)"
   ]
  },
  {
   "cell_type": "code",
   "execution_count": 7,
   "metadata": {},
   "outputs": [
    {
     "name": "stdout",
     "output_type": "stream",
     "text": [
      "(5, 64, 64, 16)\n",
      "(5, 32, 32, 32)\n",
      "(5, 16, 16, 64)\n",
      "(5, 8, 8, 128)\n",
      "(5, 64, 128)\n",
      "(5, 128, 64)\n"
     ]
    }
   ],
   "source": [
    "conv1 = tf.keras.layers.Conv2D(16, (64,64),strides = (2,2), padding='same')(x)\n",
    "print(conv1.shape)\n",
    "conv2 = tf.keras.layers.Conv2D(32, (32,32),strides = (2,2), padding='same')(conv1)\n",
    "print(conv2.shape)\n",
    "conv3 = tf.keras.layers.Conv2D(64, (16,16),strides = (2,2), padding='same')(conv2)\n",
    "print(conv3.shape)\n",
    "conv4 = tf.keras.layers.Conv2D(128, (4,4),strides = (2,2), padding='same')(conv3)\n",
    "print(conv4.shape)\n",
    "\n",
    "reshape = tf.keras.layers.Reshape((8 * 8, 128))(conv4)\n",
    "print(reshape.shape)\n",
    "transposed = tf.keras.layers.Permute((2,1))(reshape)\n",
    "print(transposed.shape)\n"
   ]
  },
  {
   "cell_type": "code",
   "execution_count": 8,
   "metadata": {},
   "outputs": [
    {
     "name": "stdout",
     "output_type": "stream",
     "text": [
      "(1, 1, 64)\n"
     ]
    }
   ],
   "source": [
    "class_token = tf.Variable(\n",
    "    tf.random.normal(shape=tf.TensorShape([1, 1, transposed.get_shape()[2]])),\n",
    "    trainable=True,\n",
    "    name=\"class_toke1n\",\n",
    "    dtype=tf.float32,\n",
    "    )\n",
    "print(class_token.shape)"
   ]
  },
  {
   "cell_type": "code",
   "execution_count": 10,
   "metadata": {},
   "outputs": [
    {
     "name": "stdout",
     "output_type": "stream",
     "text": [
      "(5, 1, 64)\n"
     ]
    }
   ],
   "source": [
    "tiled_class_token = tf.tile(class_token, [transposed.get_shape()[0],1,1])\n",
    "print(tiled_class_token.shape)"
   ]
  },
  {
   "cell_type": "code",
   "execution_count": 11,
   "metadata": {},
   "outputs": [
    {
     "name": "stdout",
     "output_type": "stream",
     "text": [
      "(5, 129, 64)\n"
     ]
    }
   ],
   "source": [
    "x_class = tf.concat([tiled_class_token,transposed], axis=1)\n",
    "print(x_class.shape)"
   ]
  },
  {
   "cell_type": "code",
   "execution_count": 12,
   "metadata": {},
   "outputs": [
    {
     "name": "stdout",
     "output_type": "stream",
     "text": [
      "(5, 129, 64)\n"
     ]
    }
   ],
   "source": [
    "E_pos = tf.Variable(\n",
    "    tf.random.normal(shape=tf.TensorShape([1, x_class.get_shape()[1], x_class.get_shape()[2]])),\n",
    "    trainable=True,\n",
    "    name=\"E_pos\",\n",
    "    dtype=tf.float32,\n",
    "    )\n",
    "tiled_E_pos = tf.tile(E_pos,[transposed.get_shape()[0],1,1])\n",
    "z_0 = x_class + tiled_E_pos\n",
    "\n",
    "print(z_0.shape)"
   ]
  },
  {
   "cell_type": "code",
   "execution_count": 13,
   "metadata": {},
   "outputs": [
    {
     "name": "stdout",
     "output_type": "stream",
     "text": [
      "(5, 129, 64)\n"
     ]
    }
   ],
   "source": [
    "LN = tf.keras.layers.LayerNormalization(axis = -1)(z_0)\n",
    "print(LN.shape)"
   ]
  },
  {
   "cell_type": "code",
   "execution_count": 21,
   "metadata": {},
   "outputs": [
    {
     "name": "stdout",
     "output_type": "stream",
     "text": [
      "(5, 64, 24)\n",
      "(5, 64, 8)\n",
      "(5, 64, 8)\n",
      "(5, 64, 8)\n"
     ]
    }
   ],
   "source": [
    "h = 8\n",
    "\n",
    "U_qkv = tf.Variable(\n",
    "    tf.random.normal(\n",
    "        shape=tf.TensorShape([1, LN.get_shape()[2], 3 * LN.get_shape()[2]//h])\n",
    "    ),\n",
    "    trainable=True,\n",
    "    name=\"U_qkv\",\n",
    "    dtype=tf.float32,\n",
    "    )\n",
    "tiled_U_qkv = tf.tile(U_qkv, [LN.get_shape()[0],1,1])\n",
    "print(tiled_U_qkv.shape)\n",
    "U_query = tiled_U_qkv[:,:,0 * LN.get_shape()[2]//h :1 * LN.get_shape()[2]//h]\n",
    "U_key   = tiled_U_qkv[:,:,1 * LN.get_shape()[2]//h :2 * LN.get_shape()[2]//h]\n",
    "U_value = tiled_U_qkv[:,:,2 * LN.get_shape()[2]//h :3 * LN.get_shape()[2]//h]\n",
    "print(U_query.shape)\n",
    "print(U_key.shape)\n",
    "print(U_value.shape)"
   ]
  },
  {
   "cell_type": "code",
   "execution_count": 23,
   "metadata": {},
   "outputs": [
    {
     "name": "stdout",
     "output_type": "stream",
     "text": [
      "(5, 129, 8)\n",
      "(5, 129, 8)\n",
      "(5, 129, 8)\n",
      "(5, 129, 8)\n"
     ]
    }
   ],
   "source": [
    "Query = tf.matmul(LN,U_query)\n",
    "Key   = tf.matmul(LN,U_key)\n",
    "Value = tf.matmul(LN,U_value)\n",
    "print(Query.shape)\n",
    "print(Key.shape)\n",
    "print(Value.shape)\n",
    "\n",
    "\n",
    "SA = tf.keras.layers.Attention(use_scale=True)([Query,Value,Key])\n",
    "print(SA.shape)"
   ]
  },
  {
   "cell_type": "code",
   "execution_count": 26,
   "metadata": {},
   "outputs": [
    {
     "name": "stdout",
     "output_type": "stream",
     "text": [
      "(5, 8, 64)\n",
      "(5, 129, 64)\n"
     ]
    }
   ],
   "source": [
    "U_msa  = tf.Variable(\n",
    "    tf.random.normal(\n",
    "        shape=tf.TensorShape([1, LN.get_shape()[2]//h, LN.get_shape()[2]])\n",
    "    ),\n",
    "    trainable=True,\n",
    "    name=\"U_msa\",\n",
    "    dtype=tf.float32,\n",
    "    )\n",
    "tiled_U_msa = tf.tile(U_msa, [LN.get_shape()[0],1,1])\n",
    "print(tiled_U_msa.shape)\n",
    "\n",
    "MSA = tf.matmul(SA,tiled_U_msa) + LN\n",
    "print(MSA.shape)"
   ]
  },
  {
   "cell_type": "code",
   "execution_count": 44,
   "metadata": {},
   "outputs": [
    {
     "name": "stdout",
     "output_type": "stream",
     "text": [
      "(5, 129, 64)\n"
     ]
    }
   ],
   "source": [
    "LN_2 = tf.keras.layers.LayerNormalization(axis = -1)(MSA)\n",
    "print(LN_2.shape)"
   ]
  },
  {
   "cell_type": "code",
   "execution_count": 52,
   "metadata": {},
   "outputs": [
    {
     "name": "stdout",
     "output_type": "stream",
     "text": [
      "(5, 129, 64)\n"
     ]
    }
   ],
   "source": [
    "flatten_LN_2 = tf.keras.layers.Flatten()(LN_2)\n",
    "F = tf.keras.layers.Dense(LN.get_shape()[1]*LN.get_shape()[2],\n",
    "                          activation=tf.keras.activations.gelu)(flatten_LN_2)\n",
    "\n",
    "FF = tf.keras.layers.Dense(LN.get_shape()[1]*LN.get_shape()[2])(F)\n",
    "FF = tf.reshape(FF,[-1,LN_2.get_shape()[1],LN_2.get_shape()[2]])+ LN_2\n",
    "print(FF.shape)"
   ]
  },
  {
   "cell_type": "code",
   "execution_count": null,
   "metadata": {},
   "outputs": [],
   "source": []
  }
 ],
 "metadata": {
  "kernelspec": {
   "display_name": "Python 3",
   "language": "python",
   "name": "python3"
  },
  "language_info": {
   "codemirror_mode": {
    "name": "ipython",
    "version": 3
   },
   "file_extension": ".py",
   "mimetype": "text/x-python",
   "name": "python",
   "nbconvert_exporter": "python",
   "pygments_lexer": "ipython3",
   "version": "3.6.9"
  }
 },
 "nbformat": 4,
 "nbformat_minor": 2
}
