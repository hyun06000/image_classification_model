{
 "cells": [
  {
   "cell_type": "code",
   "execution_count": 9,
   "id": "9ef7b946",
   "metadata": {},
   "outputs": [
    {
     "name": "stdout",
     "output_type": "stream",
     "text": [
      "109.5\n"
     ]
    }
   ],
   "source": [
    "stride = 2\n",
    "filter_len = 7\n",
    "data_len = 224\n",
    "\n",
    "out_len = (data_len - filter_len)/stride + 1\n",
    "print(out_len)"
   ]
  },
  {
   "cell_type": "code",
   "execution_count": 10,
   "id": "af7ac1ea",
   "metadata": {},
   "outputs": [
    {
     "name": "stdout",
     "output_type": "stream",
     "text": [
      "5.0\n"
     ]
    }
   ],
   "source": [
    "out_len = data_len / stride\n",
    "same_pad_size = (out_len - 1) * stride + filter_len - data_len\n",
    "print(same_pad_size)"
   ]
  },
  {
   "cell_type": "code",
   "execution_count": 11,
   "id": "ba000cd9",
   "metadata": {},
   "outputs": [
    {
     "name": "stdout",
     "output_type": "stream",
     "text": [
      "112.0\n"
     ]
    }
   ],
   "source": [
    "stride = 2\n",
    "filter_len = 7\n",
    "data_len = 224 + 5\n",
    "\n",
    "out_len = (data_len - filter_len)/stride + 1\n",
    "print(out_len)"
   ]
  },
  {
   "cell_type": "code",
   "execution_count": null,
   "id": "de74c58f",
   "metadata": {},
   "outputs": [],
   "source": []
  },
  {
   "cell_type": "code",
   "execution_count": 1,
   "id": "ec12c9a6",
   "metadata": {},
   "outputs": [
    {
     "name": "stdout",
     "output_type": "stream",
     "text": [
      "Available Themes: \r\n",
      "   chesterish\r\n",
      "   grade3\r\n",
      "   gruvboxd\r\n",
      "   gruvboxl\r\n",
      "   monokai\r\n",
      "   oceans16\r\n",
      "   onedork\r\n",
      "   solarizedd\r\n",
      "   solarizedl\r\n"
     ]
    }
   ],
   "source": [
    "!jt -l"
   ]
  },
  {
   "cell_type": "code",
   "execution_count": 5,
   "id": "058d1392",
   "metadata": {},
   "outputs": [],
   "source": [
    "!jt -f consolamono"
   ]
  },
  {
   "cell_type": "code",
   "execution_count": null,
   "id": "0bf2f900",
   "metadata": {},
   "outputs": [],
   "source": []
  },
  {
   "cell_type": "code",
   "execution_count": null,
   "id": "678c6adc",
   "metadata": {},
   "outputs": [],
   "source": []
  },
  {
   "cell_type": "code",
   "execution_count": null,
   "id": "8da0ea34",
   "metadata": {},
   "outputs": [],
   "source": []
  }
 ],
 "metadata": {
  "kernelspec": {
   "display_name": "Python 3",
   "language": "python",
   "name": "python3"
  },
  "language_info": {
   "codemirror_mode": {
    "name": "ipython",
    "version": 3
   },
   "file_extension": ".py",
   "mimetype": "text/x-python",
   "name": "python",
   "nbconvert_exporter": "python",
   "pygments_lexer": "ipython3",
   "version": "3.6.9"
  }
 },
 "nbformat": 4,
 "nbformat_minor": 5
}
