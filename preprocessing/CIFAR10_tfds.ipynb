{
 "cells": [
  {
   "cell_type": "code",
   "execution_count": 1,
   "metadata": {},
   "outputs": [],
   "source": [
    "import matplotlib.pyplot as plt\n",
    "import numpy as np\n",
    "import tensorflow as tf\n",
    "\n",
    "import tensorflow_datasets as tfds\n",
    "\n",
    "#from data.imagenet_labels import imagenet_labels"
   ]
  },
  {
   "cell_type": "code",
   "execution_count": 2,
   "metadata": {},
   "outputs": [
    {
     "name": "stdout",
     "output_type": "stream",
     "text": [
      "True\n"
     ]
    }
   ],
   "source": [
    "print('cifar10' in tfds.list_builders())"
   ]
  },
  {
   "cell_type": "code",
   "execution_count": 3,
   "metadata": {},
   "outputs": [],
   "source": [
    "ds_name = 'cifar10'\n",
    "builder = tfds.builder(ds_name)"
   ]
  },
  {
   "cell_type": "code",
   "execution_count": 4,
   "metadata": {},
   "outputs": [],
   "source": [
    "builder.download_and_prepare()"
   ]
  },
  {
   "cell_type": "code",
   "execution_count": 5,
   "metadata": {},
   "outputs": [
    {
     "name": "stdout",
     "output_type": "stream",
     "text": [
      "<_OptionsDataset shapes: {id: (), image: (32, 32, 3), label: ()}, types: {id: tf.string, image: tf.uint8, label: tf.int64}>\n",
      "<_OptionsDataset shapes: {id: (), image: (32, 32, 3), label: ()}, types: {id: tf.string, image: tf.uint8, label: tf.int64}>\n"
     ]
    }
   ],
   "source": [
    "tr_ds, te_ds = builder.as_dataset(split = ['train', 'test'], shuffle_files = True)\n",
    "print(tr_ds)\n",
    "print(te_ds)"
   ]
  },
  {
   "cell_type": "code",
   "execution_count": 6,
   "metadata": {},
   "outputs": [
    {
     "name": "stdout",
     "output_type": "stream",
     "text": [
      "50000\n"
     ]
    }
   ],
   "source": [
    "tr_ds = tr_ds.batch(1)\n",
    "print(len(tr_ds))"
   ]
  },
  {
   "cell_type": "code",
   "execution_count": 8,
   "metadata": {},
   "outputs": [
    {
     "name": "stdout",
     "output_type": "stream",
     "text": [
      "10000\n"
     ]
    }
   ],
   "source": [
    "te_ds = te_ds.batch(1)\n",
    "print(len(te_ds))"
   ]
  },
  {
   "cell_type": "code",
   "execution_count": 33,
   "metadata": {},
   "outputs": [
    {
     "name": "stdout",
     "output_type": "stream",
     "text": [
      "['id', 'image', 'label']\n",
      "id :  tf.Tensor(b'train_16399', shape=(), dtype=string)\n",
      "(32, 32, 3)\n"
     ]
    },
    {
     "data": {
      "image/png": "[encoded data removed]",
      "text/plain": [
       "<Figure size 432x288 with 1 Axes>"
      ]
     },
     "metadata": {
      "needs_background": "light"
     },
     "output_type": "display_data"
    },
    {
     "name": "stdout",
     "output_type": "stream",
     "text": [
      "label :  7\n"
     ]
    }
   ],
   "source": [
    "tr_ds = tr_ds.take(1)\n",
    "for example in tr_ds:\n",
    "    print(list(example.keys()))\n",
    "    _id = example['id']\n",
    "    image = example['image']\n",
    "    label = example['label']\n",
    "\n",
    "    print('id : ', _id)\n",
    "    print(image.shape)\n",
    "    plt.imshow(image)\n",
    "    plt.show()\n",
    "    print('label : ',label.numpy())"
   ]
  },
  {
   "cell_type": "code",
   "execution_count": 34,
   "metadata": {},
   "outputs": [
    {
     "data": {
      "text/plain": [
       "numpy.uint8"
      ]
     },
     "execution_count": 34,
     "metadata": {},
     "output_type": "execute_result"
    }
   ],
   "source": [
    "type(image.numpy()[0][0][0])\n",
    "#type(label.numpy())"
   ]
  },
  {
   "cell_type": "code",
   "execution_count": null,
   "metadata": {},
   "outputs": [],
   "source": [
    "indx, max_v, max_h = 0, 0, 0\n",
    "for example in val_ds:\n",
    "    indx += 1\n",
    "    im = example['image']\n",
    "    max_v = max(max_v, im.shape[0])\n",
    "    max_h = max(max_h, im.shape[1])\n",
    "\n",
    "print('the_number_of_data : ', indx)\n",
    "print('the_max_v_size : ', max_v)\n",
    "print('the_max_h_size : ', max_h)\n",
    "\n",
    "\n",
    "val_ds = val_ds.take(1)\n",
    "for example in val_ds:\n",
    "    print(list(example.keys()))\n",
    "    file_name = example['file_name']\n",
    "    image = example['image']\n",
    "    label = example['label']\n",
    "    \n",
    "    print('file_name : ',file_name)\n",
    "    plt.imshow(image)\n",
    "    plt.show()\n",
    "    print('label : ',imagenet_labels[label.numpy()])"
   ]
  },
  {
   "cell_type": "code",
   "execution_count": null,
   "metadata": {},
   "outputs": [],
   "source": [
    "te_ds = te_ds.take(1)\n",
    "\n",
    "for example in te_ds:\n",
    "    print(list(example.keys()))\n",
    "    file_name = example['file_name']\n",
    "    image = example['image']\n",
    "    label = example['label']\n",
    "    \n",
    "    print('file_name : ',file_name)\n",
    "    plt.imshow(image)\n",
    "    plt.show()\n",
    "    print('label : ',label)"
   ]
  },
  {
   "cell_type": "code",
   "execution_count": 1,
   "metadata": {},
   "outputs": [
    {
     "data": {
      "text/plain": [
       "16384"
      ]
     },
     "execution_count": 1,
     "metadata": {},
     "output_type": "execute_result"
    }
   ],
   "source": [
    "16 * 1024"
   ]
  },
  {
   "cell_type": "code",
   "execution_count": 2,
   "metadata": {},
   "outputs": [
    {
     "data": {
      "text/plain": [
       "8192"
      ]
     },
     "execution_count": 2,
     "metadata": {},
     "output_type": "execute_result"
    }
   ],
   "source": [
    "16 * 512"
   ]
  },
  {
   "cell_type": "code",
   "execution_count": null,
   "metadata": {},
   "outputs": [],
   "source": []
  }
 ],
 "metadata": {
  "kernelspec": {
   "display_name": "Python 3",
   "language": "python",
   "name": "python3"
  },
  "language_info": {
   "codemirror_mode": {
    "name": "ipython",
    "version": 3
   },
   "file_extension": ".py",
   "mimetype": "text/x-python",
   "name": "python",
   "nbconvert_exporter": "python",
   "pygments_lexer": "ipython3",
   "version": "3.6.9"
  }
 },
 "nbformat": 4,
 "nbformat_minor": 2
}
