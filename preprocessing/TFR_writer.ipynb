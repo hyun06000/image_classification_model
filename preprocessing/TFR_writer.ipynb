{
 "cells": [
  {
   "cell_type": "code",
   "execution_count": 1,
   "metadata": {},
   "outputs": [],
   "source": [
    "import os\n",
    "import tensorflow as tf\n",
    "import numpy as np"
   ]
  },
  {
   "cell_type": "code",
   "execution_count": 2,
   "metadata": {},
   "outputs": [],
   "source": [
    "train_x_y = []\n",
    "for label in os.listdir('./data/prepared/train/'):\n",
    "    if label.isnumeric():\n",
    "        for f_name in os.listdir('./data/prepared/train/{0}'.format(label)):\n",
    "            train_x_y.append(\n",
    "                ('./data/prepared/train/{0}/{1}'.format(label,f_name),label)\n",
    "            )"
   ]
  },
  {
   "cell_type": "code",
   "execution_count": 3,
   "metadata": {},
   "outputs": [],
   "source": [
    "num_of_files = len(train_x_y)\n",
    "\n",
    "i = 0\n",
    "for x, y in train_x_y:\n",
    "    x = np.load(x, mmap_mode = 'r')\n",
    "    x = tf.io.serialize_tensor(x).numpy()\n",
    "    \n",
    "    with tf.io.TFRecordWriter(\n",
    "        './data/TFRs/train/train.tfrecord-{0:05d}-of-{1:05d}'.format(i, num_of_files)\n",
    "    ) as file_writer:\n",
    "        record_bytes = \\\n",
    "        tf.train.Example(features=tf.train.Features(feature={\n",
    "            \"image\": tf.train.Feature(bytes_list=tf.train.BytesList(value=[x])),\n",
    "            \"label\": tf.train.Feature(int64_list=tf.train.Int64List(value=[int(y)])),\n",
    "        })).SerializeToString()\n",
    "        file_writer.write(record_bytes)\n",
    "    i += 1"
   ]
  },
  {
   "cell_type": "code",
   "execution_count": 4,
   "metadata": {},
   "outputs": [],
   "source": [
    "!rm ./data/TFRs/train/*"
   ]
  },
  {
   "cell_type": "code",
   "execution_count": null,
   "metadata": {},
   "outputs": [],
   "source": []
  }
 ],
 "metadata": {
  "kernelspec": {
   "display_name": "Python 3",
   "language": "python",
   "name": "python3"
  },
  "language_info": {
   "codemirror_mode": {
    "name": "ipython",
    "version": 3
   },
   "file_extension": ".py",
   "mimetype": "text/x-python",
   "name": "python",
   "nbconvert_exporter": "python",
   "pygments_lexer": "ipython3",
   "version": "3.6.9"
  }
 },
 "nbformat": 4,
 "nbformat_minor": 2
}
